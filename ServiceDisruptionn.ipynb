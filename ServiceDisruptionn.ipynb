{
 "cells": [
  {
   "cell_type": "code",
   "execution_count": 2,
   "metadata": {},
   "outputs": [],
   "source": [
    "import pandas as pd\n",
    "import numpy as np\n",
    "import matplotlib.pyplot as plt\n",
    "%matplotlib inline\n",
    "import warnings\n",
    "warnings.filterwarnings(\"ignore\")"
   ]
  },
  {
   "cell_type": "code",
   "execution_count": 3,
   "metadata": {},
   "outputs": [
    {
     "data": {
      "text/html": [
       "<div>\n",
       "<style scoped>\n",
       "    .dataframe tbody tr th:only-of-type {\n",
       "        vertical-align: middle;\n",
       "    }\n",
       "\n",
       "    .dataframe tbody tr th {\n",
       "        vertical-align: top;\n",
       "    }\n",
       "\n",
       "    .dataframe thead th {\n",
       "        text-align: right;\n",
       "    }\n",
       "</style>\n",
       "<table border=\"1\" class=\"dataframe\">\n",
       "  <thead>\n",
       "    <tr style=\"text-align: right;\">\n",
       "      <th></th>\n",
       "      <th>id</th>\n",
       "      <th>location</th>\n",
       "      <th>fault_severity</th>\n",
       "    </tr>\n",
       "  </thead>\n",
       "  <tbody>\n",
       "    <tr>\n",
       "      <th>0</th>\n",
       "      <td>14121</td>\n",
       "      <td>location 118</td>\n",
       "      <td>1</td>\n",
       "    </tr>\n",
       "    <tr>\n",
       "      <th>1</th>\n",
       "      <td>9320</td>\n",
       "      <td>location 91</td>\n",
       "      <td>0</td>\n",
       "    </tr>\n",
       "    <tr>\n",
       "      <th>2</th>\n",
       "      <td>14394</td>\n",
       "      <td>location 152</td>\n",
       "      <td>1</td>\n",
       "    </tr>\n",
       "    <tr>\n",
       "      <th>3</th>\n",
       "      <td>8218</td>\n",
       "      <td>location 931</td>\n",
       "      <td>1</td>\n",
       "    </tr>\n",
       "    <tr>\n",
       "      <th>4</th>\n",
       "      <td>14804</td>\n",
       "      <td>location 120</td>\n",
       "      <td>0</td>\n",
       "    </tr>\n",
       "  </tbody>\n",
       "</table>\n",
       "</div>"
      ],
      "text/plain": [
       "      id      location  fault_severity\n",
       "0  14121  location 118               1\n",
       "1   9320   location 91               0\n",
       "2  14394  location 152               1\n",
       "3   8218  location 931               1\n",
       "4  14804  location 120               0"
      ]
     },
     "execution_count": 3,
     "metadata": {},
     "output_type": "execute_result"
    }
   ],
   "source": [
    "train=pd.read_csv(\"train.csv\")\n",
    "train.head()"
   ]
  },
  {
   "cell_type": "code",
   "execution_count": 4,
   "metadata": {},
   "outputs": [],
   "source": [
    "event_type=pd.read_csv(\"event_type.csv\")\n",
    "log_feature = pd.read_csv('log_feature.csv')\n",
    "resource_type = pd.read_csv('resource_type.csv')\n",
    "severity_type = pd.read_csv('severity_type.csv')"
   ]
  },
  {
   "cell_type": "code",
   "execution_count": 5,
   "metadata": {},
   "outputs": [
    {
     "data": {
      "text/html": [
       "<div>\n",
       "<style scoped>\n",
       "    .dataframe tbody tr th:only-of-type {\n",
       "        vertical-align: middle;\n",
       "    }\n",
       "\n",
       "    .dataframe tbody tr th {\n",
       "        vertical-align: top;\n",
       "    }\n",
       "\n",
       "    .dataframe thead th {\n",
       "        text-align: right;\n",
       "    }\n",
       "</style>\n",
       "<table border=\"1\" class=\"dataframe\">\n",
       "  <thead>\n",
       "    <tr style=\"text-align: right;\">\n",
       "      <th></th>\n",
       "      <th>id</th>\n",
       "      <th>log_feature</th>\n",
       "      <th>volume</th>\n",
       "    </tr>\n",
       "  </thead>\n",
       "  <tbody>\n",
       "    <tr>\n",
       "      <th>0</th>\n",
       "      <td>6597</td>\n",
       "      <td>feature 68</td>\n",
       "      <td>6</td>\n",
       "    </tr>\n",
       "    <tr>\n",
       "      <th>1</th>\n",
       "      <td>8011</td>\n",
       "      <td>feature 68</td>\n",
       "      <td>7</td>\n",
       "    </tr>\n",
       "    <tr>\n",
       "      <th>2</th>\n",
       "      <td>2597</td>\n",
       "      <td>feature 68</td>\n",
       "      <td>1</td>\n",
       "    </tr>\n",
       "    <tr>\n",
       "      <th>3</th>\n",
       "      <td>5022</td>\n",
       "      <td>feature 172</td>\n",
       "      <td>2</td>\n",
       "    </tr>\n",
       "    <tr>\n",
       "      <th>4</th>\n",
       "      <td>5022</td>\n",
       "      <td>feature 56</td>\n",
       "      <td>1</td>\n",
       "    </tr>\n",
       "    <tr>\n",
       "      <th>...</th>\n",
       "      <td>...</td>\n",
       "      <td>...</td>\n",
       "      <td>...</td>\n",
       "    </tr>\n",
       "    <tr>\n",
       "      <th>58666</th>\n",
       "      <td>8720</td>\n",
       "      <td>feature 209</td>\n",
       "      <td>1</td>\n",
       "    </tr>\n",
       "    <tr>\n",
       "      <th>58667</th>\n",
       "      <td>6488</td>\n",
       "      <td>feature 54</td>\n",
       "      <td>3</td>\n",
       "    </tr>\n",
       "    <tr>\n",
       "      <th>58668</th>\n",
       "      <td>878</td>\n",
       "      <td>feature 62</td>\n",
       "      <td>1</td>\n",
       "    </tr>\n",
       "    <tr>\n",
       "      <th>58669</th>\n",
       "      <td>4464</td>\n",
       "      <td>feature 209</td>\n",
       "      <td>1</td>\n",
       "    </tr>\n",
       "    <tr>\n",
       "      <th>58670</th>\n",
       "      <td>4464</td>\n",
       "      <td>feature 87</td>\n",
       "      <td>2</td>\n",
       "    </tr>\n",
       "  </tbody>\n",
       "</table>\n",
       "<p>58671 rows × 3 columns</p>\n",
       "</div>"
      ],
      "text/plain": [
       "         id  log_feature  volume\n",
       "0      6597   feature 68       6\n",
       "1      8011   feature 68       7\n",
       "2      2597   feature 68       1\n",
       "3      5022  feature 172       2\n",
       "4      5022   feature 56       1\n",
       "...     ...          ...     ...\n",
       "58666  8720  feature 209       1\n",
       "58667  6488   feature 54       3\n",
       "58668   878   feature 62       1\n",
       "58669  4464  feature 209       1\n",
       "58670  4464   feature 87       2\n",
       "\n",
       "[58671 rows x 3 columns]"
      ]
     },
     "execution_count": 5,
     "metadata": {},
     "output_type": "execute_result"
    }
   ],
   "source": [
    "log_feature"
   ]
  },
  {
   "cell_type": "code",
   "execution_count": 7,
   "metadata": {},
   "outputs": [
    {
     "name": "stdout",
     "output_type": "stream",
     "text": [
      "<class 'pandas.core.frame.DataFrame'>\n",
      "RangeIndex: 7381 entries, 0 to 7380\n",
      "Data columns (total 3 columns):\n",
      " #   Column          Non-Null Count  Dtype \n",
      "---  ------          --------------  ----- \n",
      " 0   id              7381 non-null   int64 \n",
      " 1   location        7381 non-null   object\n",
      " 2   fault_severity  7381 non-null   int64 \n",
      "dtypes: int64(2), object(1)\n",
      "memory usage: 173.1+ KB\n"
     ]
    }
   ],
   "source": [
    "train.info()"
   ]
  },
  {
   "cell_type": "code",
   "execution_count": 8,
   "metadata": {},
   "outputs": [
    {
     "data": {
      "text/plain": [
       "(929, 3)"
      ]
     },
     "execution_count": 8,
     "metadata": {},
     "output_type": "execute_result"
    }
   ],
   "source": [
    "train['location'].nunique() ,train['fault_severity'].nunique()"
   ]
  },
  {
   "cell_type": "code",
   "execution_count": 9,
   "metadata": {},
   "outputs": [
    {
     "data": {
      "text/plain": [
       "((7381, 3), (31170, 2), (58671, 3), (21076, 2), (18552, 2))"
      ]
     },
     "execution_count": 9,
     "metadata": {},
     "output_type": "execute_result"
    }
   ],
   "source": [
    "train.shape ,event_type.shape,log_feature.shape,resource_type.shape,severity_type.shape"
   ]
  },
  {
   "cell_type": "code",
   "execution_count": 10,
   "metadata": {},
   "outputs": [],
   "source": [
    "#eventtype=event_type.drop('id',1)\n",
    "#logfeature=log_feature.drop('id',1)\n",
    "#resourceype=resource_type.drop(id,1)\n",
    "#severitytype=severity_type.drop('id',1)\n",
    "\n",
    "#list=[train,eventtype,logfeature,resource]\n",
    "#datas=pd.concat(list2, axis=1)          ->concat üstüne ekliyor,(veri kaybı?)"
   ]
  },
  {
   "cell_type": "code",
   "execution_count": 11,
   "metadata": {},
   "outputs": [],
   "source": [
    "# verileri kaybetmemek için (ne kadar çok veri varsa doğruluk oranı yüksek olur) merge function kullan."
   ]
  },
  {
   "cell_type": "code",
   "execution_count": 12,
   "metadata": {},
   "outputs": [],
   "source": [
    "df1=train.merge(event_type,how='left',left_on='id',right_on='id')\n",
    "df2=df1.merge(log_feature,how='left',left_on='id',right_on='id')\n",
    "df3=df2.merge(resource_type,how='left',left_on='id',right_on='id')\n",
    "df4=df3.merge(severity_type,how='left',left_on='id',right_on='id')"
   ]
  },
  {
   "cell_type": "code",
   "execution_count": 13,
   "metadata": {},
   "outputs": [
    {
     "data": {
      "text/html": [
       "<div>\n",
       "<style scoped>\n",
       "    .dataframe tbody tr th:only-of-type {\n",
       "        vertical-align: middle;\n",
       "    }\n",
       "\n",
       "    .dataframe tbody tr th {\n",
       "        vertical-align: top;\n",
       "    }\n",
       "\n",
       "    .dataframe thead th {\n",
       "        text-align: right;\n",
       "    }\n",
       "</style>\n",
       "<table border=\"1\" class=\"dataframe\">\n",
       "  <thead>\n",
       "    <tr style=\"text-align: right;\">\n",
       "      <th></th>\n",
       "      <th>id</th>\n",
       "      <th>location</th>\n",
       "      <th>fault_severity</th>\n",
       "      <th>event_type</th>\n",
       "      <th>log_feature</th>\n",
       "      <th>volume</th>\n",
       "      <th>resource_type</th>\n",
       "      <th>severity_type</th>\n",
       "    </tr>\n",
       "  </thead>\n",
       "  <tbody>\n",
       "    <tr>\n",
       "      <th>0</th>\n",
       "      <td>14121</td>\n",
       "      <td>location 118</td>\n",
       "      <td>1</td>\n",
       "      <td>event_type 34</td>\n",
       "      <td>feature 312</td>\n",
       "      <td>19</td>\n",
       "      <td>resource_type 2</td>\n",
       "      <td>severity_type 2</td>\n",
       "    </tr>\n",
       "    <tr>\n",
       "      <th>1</th>\n",
       "      <td>14121</td>\n",
       "      <td>location 118</td>\n",
       "      <td>1</td>\n",
       "      <td>event_type 34</td>\n",
       "      <td>feature 232</td>\n",
       "      <td>19</td>\n",
       "      <td>resource_type 2</td>\n",
       "      <td>severity_type 2</td>\n",
       "    </tr>\n",
       "    <tr>\n",
       "      <th>2</th>\n",
       "      <td>14121</td>\n",
       "      <td>location 118</td>\n",
       "      <td>1</td>\n",
       "      <td>event_type 35</td>\n",
       "      <td>feature 312</td>\n",
       "      <td>19</td>\n",
       "      <td>resource_type 2</td>\n",
       "      <td>severity_type 2</td>\n",
       "    </tr>\n",
       "    <tr>\n",
       "      <th>3</th>\n",
       "      <td>14121</td>\n",
       "      <td>location 118</td>\n",
       "      <td>1</td>\n",
       "      <td>event_type 35</td>\n",
       "      <td>feature 232</td>\n",
       "      <td>19</td>\n",
       "      <td>resource_type 2</td>\n",
       "      <td>severity_type 2</td>\n",
       "    </tr>\n",
       "    <tr>\n",
       "      <th>4</th>\n",
       "      <td>9320</td>\n",
       "      <td>location 91</td>\n",
       "      <td>0</td>\n",
       "      <td>event_type 34</td>\n",
       "      <td>feature 315</td>\n",
       "      <td>200</td>\n",
       "      <td>resource_type 2</td>\n",
       "      <td>severity_type 2</td>\n",
       "    </tr>\n",
       "    <tr>\n",
       "      <th>...</th>\n",
       "      <td>...</td>\n",
       "      <td>...</td>\n",
       "      <td>...</td>\n",
       "      <td>...</td>\n",
       "      <td>...</td>\n",
       "      <td>...</td>\n",
       "      <td>...</td>\n",
       "      <td>...</td>\n",
       "    </tr>\n",
       "    <tr>\n",
       "      <th>61834</th>\n",
       "      <td>15189</td>\n",
       "      <td>location 7</td>\n",
       "      <td>0</td>\n",
       "      <td>event_type 11</td>\n",
       "      <td>feature 55</td>\n",
       "      <td>10</td>\n",
       "      <td>resource_type 8</td>\n",
       "      <td>severity_type 1</td>\n",
       "    </tr>\n",
       "    <tr>\n",
       "      <th>61835</th>\n",
       "      <td>15189</td>\n",
       "      <td>location 7</td>\n",
       "      <td>0</td>\n",
       "      <td>event_type 11</td>\n",
       "      <td>feature 70</td>\n",
       "      <td>1</td>\n",
       "      <td>resource_type 8</td>\n",
       "      <td>severity_type 1</td>\n",
       "    </tr>\n",
       "    <tr>\n",
       "      <th>61836</th>\n",
       "      <td>17067</td>\n",
       "      <td>location 885</td>\n",
       "      <td>0</td>\n",
       "      <td>event_type 11</td>\n",
       "      <td>feature 81</td>\n",
       "      <td>1</td>\n",
       "      <td>resource_type 8</td>\n",
       "      <td>severity_type 1</td>\n",
       "    </tr>\n",
       "    <tr>\n",
       "      <th>61837</th>\n",
       "      <td>17067</td>\n",
       "      <td>location 885</td>\n",
       "      <td>0</td>\n",
       "      <td>event_type 11</td>\n",
       "      <td>feature 191</td>\n",
       "      <td>1</td>\n",
       "      <td>resource_type 8</td>\n",
       "      <td>severity_type 1</td>\n",
       "    </tr>\n",
       "    <tr>\n",
       "      <th>61838</th>\n",
       "      <td>17067</td>\n",
       "      <td>location 885</td>\n",
       "      <td>0</td>\n",
       "      <td>event_type 11</td>\n",
       "      <td>feature 70</td>\n",
       "      <td>1</td>\n",
       "      <td>resource_type 8</td>\n",
       "      <td>severity_type 1</td>\n",
       "    </tr>\n",
       "  </tbody>\n",
       "</table>\n",
       "<p>61839 rows × 8 columns</p>\n",
       "</div>"
      ],
      "text/plain": [
       "          id      location  fault_severity     event_type  log_feature  \\\n",
       "0      14121  location 118               1  event_type 34  feature 312   \n",
       "1      14121  location 118               1  event_type 34  feature 232   \n",
       "2      14121  location 118               1  event_type 35  feature 312   \n",
       "3      14121  location 118               1  event_type 35  feature 232   \n",
       "4       9320   location 91               0  event_type 34  feature 315   \n",
       "...      ...           ...             ...            ...          ...   \n",
       "61834  15189    location 7               0  event_type 11   feature 55   \n",
       "61835  15189    location 7               0  event_type 11   feature 70   \n",
       "61836  17067  location 885               0  event_type 11   feature 81   \n",
       "61837  17067  location 885               0  event_type 11  feature 191   \n",
       "61838  17067  location 885               0  event_type 11   feature 70   \n",
       "\n",
       "       volume    resource_type    severity_type  \n",
       "0          19  resource_type 2  severity_type 2  \n",
       "1          19  resource_type 2  severity_type 2  \n",
       "2          19  resource_type 2  severity_type 2  \n",
       "3          19  resource_type 2  severity_type 2  \n",
       "4         200  resource_type 2  severity_type 2  \n",
       "...       ...              ...              ...  \n",
       "61834      10  resource_type 8  severity_type 1  \n",
       "61835       1  resource_type 8  severity_type 1  \n",
       "61836       1  resource_type 8  severity_type 1  \n",
       "61837       1  resource_type 8  severity_type 1  \n",
       "61838       1  resource_type 8  severity_type 1  \n",
       "\n",
       "[61839 rows x 8 columns]"
      ]
     },
     "execution_count": 13,
     "metadata": {},
     "output_type": "execute_result"
    }
   ],
   "source": [
    "df4"
   ]
  },
  {
   "cell_type": "code",
   "execution_count": 14,
   "metadata": {},
   "outputs": [
    {
     "data": {
      "text/plain": [
       "(61839, 8)"
      ]
     },
     "execution_count": 14,
     "metadata": {},
     "output_type": "execute_result"
    }
   ],
   "source": [
    "df4.shape"
   ]
  },
  {
   "cell_type": "code",
   "execution_count": 15,
   "metadata": {},
   "outputs": [
    {
     "data": {
      "text/plain": [
       "id                0\n",
       "location          0\n",
       "fault_severity    0\n",
       "event_type        0\n",
       "log_feature       0\n",
       "volume            0\n",
       "resource_type     0\n",
       "severity_type     0\n",
       "dtype: int64"
      ]
     },
     "execution_count": 15,
     "metadata": {},
     "output_type": "execute_result"
    }
   ],
   "source": [
    "df4.isnull().sum()"
   ]
  },
  {
   "cell_type": "code",
   "execution_count": 16,
   "metadata": {},
   "outputs": [
    {
     "name": "stdout",
     "output_type": "stream",
     "text": [
      "<class 'pandas.core.frame.DataFrame'>\n",
      "Int64Index: 61839 entries, 0 to 61838\n",
      "Data columns (total 8 columns):\n",
      " #   Column          Non-Null Count  Dtype \n",
      "---  ------          --------------  ----- \n",
      " 0   id              61839 non-null  int64 \n",
      " 1   location        61839 non-null  object\n",
      " 2   fault_severity  61839 non-null  int64 \n",
      " 3   event_type      61839 non-null  object\n",
      " 4   log_feature     61839 non-null  object\n",
      " 5   volume          61839 non-null  int64 \n",
      " 6   resource_type   61839 non-null  object\n",
      " 7   severity_type   61839 non-null  object\n",
      "dtypes: int64(3), object(5)\n",
      "memory usage: 4.2+ MB\n"
     ]
    }
   ],
   "source": [
    "df4.info() #object verileri düzenleyip yazıları kaldıracağım."
   ]
  },
  {
   "cell_type": "code",
   "execution_count": 17,
   "metadata": {},
   "outputs": [],
   "source": [
    "df4['location'] = df4['location'].str.replace('location','')\n",
    "df4['event_type'] = df4['event_type'].str.replace('event_type','')\n",
    "df4['log_feature'] = df4['log_feature'].str.replace('feature','')\n",
    "df4['resource_type'] = df4['resource_type'].str.replace('resource_type','')\n",
    "df4['severity_type']=df4['severity_type'].str.replace('severity_type','')"
   ]
  },
  {
   "cell_type": "code",
   "execution_count": 18,
   "metadata": {},
   "outputs": [
    {
     "data": {
      "text/html": [
       "<div>\n",
       "<style scoped>\n",
       "    .dataframe tbody tr th:only-of-type {\n",
       "        vertical-align: middle;\n",
       "    }\n",
       "\n",
       "    .dataframe tbody tr th {\n",
       "        vertical-align: top;\n",
       "    }\n",
       "\n",
       "    .dataframe thead th {\n",
       "        text-align: right;\n",
       "    }\n",
       "</style>\n",
       "<table border=\"1\" class=\"dataframe\">\n",
       "  <thead>\n",
       "    <tr style=\"text-align: right;\">\n",
       "      <th></th>\n",
       "      <th>id</th>\n",
       "      <th>location</th>\n",
       "      <th>fault_severity</th>\n",
       "      <th>event_type</th>\n",
       "      <th>log_feature</th>\n",
       "      <th>volume</th>\n",
       "      <th>resource_type</th>\n",
       "      <th>severity_type</th>\n",
       "    </tr>\n",
       "  </thead>\n",
       "  <tbody>\n",
       "    <tr>\n",
       "      <th>0</th>\n",
       "      <td>14121</td>\n",
       "      <td>118</td>\n",
       "      <td>1</td>\n",
       "      <td>34</td>\n",
       "      <td>312</td>\n",
       "      <td>19</td>\n",
       "      <td>2</td>\n",
       "      <td>2</td>\n",
       "    </tr>\n",
       "    <tr>\n",
       "      <th>1</th>\n",
       "      <td>14121</td>\n",
       "      <td>118</td>\n",
       "      <td>1</td>\n",
       "      <td>34</td>\n",
       "      <td>232</td>\n",
       "      <td>19</td>\n",
       "      <td>2</td>\n",
       "      <td>2</td>\n",
       "    </tr>\n",
       "    <tr>\n",
       "      <th>2</th>\n",
       "      <td>14121</td>\n",
       "      <td>118</td>\n",
       "      <td>1</td>\n",
       "      <td>35</td>\n",
       "      <td>312</td>\n",
       "      <td>19</td>\n",
       "      <td>2</td>\n",
       "      <td>2</td>\n",
       "    </tr>\n",
       "    <tr>\n",
       "      <th>3</th>\n",
       "      <td>14121</td>\n",
       "      <td>118</td>\n",
       "      <td>1</td>\n",
       "      <td>35</td>\n",
       "      <td>232</td>\n",
       "      <td>19</td>\n",
       "      <td>2</td>\n",
       "      <td>2</td>\n",
       "    </tr>\n",
       "    <tr>\n",
       "      <th>4</th>\n",
       "      <td>9320</td>\n",
       "      <td>91</td>\n",
       "      <td>0</td>\n",
       "      <td>34</td>\n",
       "      <td>315</td>\n",
       "      <td>200</td>\n",
       "      <td>2</td>\n",
       "      <td>2</td>\n",
       "    </tr>\n",
       "    <tr>\n",
       "      <th>...</th>\n",
       "      <td>...</td>\n",
       "      <td>...</td>\n",
       "      <td>...</td>\n",
       "      <td>...</td>\n",
       "      <td>...</td>\n",
       "      <td>...</td>\n",
       "      <td>...</td>\n",
       "      <td>...</td>\n",
       "    </tr>\n",
       "    <tr>\n",
       "      <th>61834</th>\n",
       "      <td>15189</td>\n",
       "      <td>7</td>\n",
       "      <td>0</td>\n",
       "      <td>11</td>\n",
       "      <td>55</td>\n",
       "      <td>10</td>\n",
       "      <td>8</td>\n",
       "      <td>1</td>\n",
       "    </tr>\n",
       "    <tr>\n",
       "      <th>61835</th>\n",
       "      <td>15189</td>\n",
       "      <td>7</td>\n",
       "      <td>0</td>\n",
       "      <td>11</td>\n",
       "      <td>70</td>\n",
       "      <td>1</td>\n",
       "      <td>8</td>\n",
       "      <td>1</td>\n",
       "    </tr>\n",
       "    <tr>\n",
       "      <th>61836</th>\n",
       "      <td>17067</td>\n",
       "      <td>885</td>\n",
       "      <td>0</td>\n",
       "      <td>11</td>\n",
       "      <td>81</td>\n",
       "      <td>1</td>\n",
       "      <td>8</td>\n",
       "      <td>1</td>\n",
       "    </tr>\n",
       "    <tr>\n",
       "      <th>61837</th>\n",
       "      <td>17067</td>\n",
       "      <td>885</td>\n",
       "      <td>0</td>\n",
       "      <td>11</td>\n",
       "      <td>191</td>\n",
       "      <td>1</td>\n",
       "      <td>8</td>\n",
       "      <td>1</td>\n",
       "    </tr>\n",
       "    <tr>\n",
       "      <th>61838</th>\n",
       "      <td>17067</td>\n",
       "      <td>885</td>\n",
       "      <td>0</td>\n",
       "      <td>11</td>\n",
       "      <td>70</td>\n",
       "      <td>1</td>\n",
       "      <td>8</td>\n",
       "      <td>1</td>\n",
       "    </tr>\n",
       "  </tbody>\n",
       "</table>\n",
       "<p>61839 rows × 8 columns</p>\n",
       "</div>"
      ],
      "text/plain": [
       "          id location  fault_severity event_type log_feature  volume  \\\n",
       "0      14121      118               1         34         312      19   \n",
       "1      14121      118               1         34         232      19   \n",
       "2      14121      118               1         35         312      19   \n",
       "3      14121      118               1         35         232      19   \n",
       "4       9320       91               0         34         315     200   \n",
       "...      ...      ...             ...        ...         ...     ...   \n",
       "61834  15189        7               0         11          55      10   \n",
       "61835  15189        7               0         11          70       1   \n",
       "61836  17067      885               0         11          81       1   \n",
       "61837  17067      885               0         11         191       1   \n",
       "61838  17067      885               0         11          70       1   \n",
       "\n",
       "      resource_type severity_type  \n",
       "0                 2             2  \n",
       "1                 2             2  \n",
       "2                 2             2  \n",
       "3                 2             2  \n",
       "4                 2             2  \n",
       "...             ...           ...  \n",
       "61834             8             1  \n",
       "61835             8             1  \n",
       "61836             8             1  \n",
       "61837             8             1  \n",
       "61838             8             1  \n",
       "\n",
       "[61839 rows x 8 columns]"
      ]
     },
     "execution_count": 18,
     "metadata": {},
     "output_type": "execute_result"
    }
   ],
   "source": [
    "df4"
   ]
  },
  {
   "cell_type": "code",
   "execution_count": 20,
   "metadata": {},
   "outputs": [],
   "source": [
    "df4['location']=pd.to_numeric(df4['location'])\n",
    "df4['event_type']=pd.to_numeric(df4['event_type'])\n",
    "df4['log_feature']=pd.to_numeric(df4['log_feature'])\n",
    "df4['resource_type']=pd.to_numeric(df4['resource_type'])\n",
    "df4['severity_type']=pd.to_numeric(df4['severity_type'])"
   ]
  },
  {
   "cell_type": "code",
   "execution_count": 21,
   "metadata": {},
   "outputs": [],
   "source": [
    "#not:gradient boostingte zorlanmamak adına zaten sayısal veriler olduğundan dummy yapmadım. convert numerical yaptım."
   ]
  },
  {
   "cell_type": "code",
   "execution_count": 22,
   "metadata": {},
   "outputs": [
    {
     "name": "stdout",
     "output_type": "stream",
     "text": [
      "<class 'pandas.core.frame.DataFrame'>\n",
      "Int64Index: 61839 entries, 0 to 61838\n",
      "Data columns (total 8 columns):\n",
      " #   Column          Non-Null Count  Dtype\n",
      "---  ------          --------------  -----\n",
      " 0   id              61839 non-null  int64\n",
      " 1   location        61839 non-null  int64\n",
      " 2   fault_severity  61839 non-null  int64\n",
      " 3   event_type      61839 non-null  int64\n",
      " 4   log_feature     61839 non-null  int64\n",
      " 5   volume          61839 non-null  int64\n",
      " 6   resource_type   61839 non-null  int64\n",
      " 7   severity_type   61839 non-null  int64\n",
      "dtypes: int64(8)\n",
      "memory usage: 4.2 MB\n"
     ]
    }
   ],
   "source": [
    "df4.info()"
   ]
  },
  {
   "cell_type": "code",
   "execution_count": 23,
   "metadata": {},
   "outputs": [
    {
     "data": {
      "text/plain": [
       "0        1\n",
       "1        1\n",
       "2        1\n",
       "3        1\n",
       "4        0\n",
       "        ..\n",
       "61834    0\n",
       "61835    0\n",
       "61836    0\n",
       "61837    0\n",
       "61838    0\n",
       "Name: fault_severity, Length: 61839, dtype: int64"
      ]
     },
     "execution_count": 23,
     "metadata": {},
     "output_type": "execute_result"
    }
   ],
   "source": [
    "df4['fault_severity']"
   ]
  },
  {
   "cell_type": "code",
   "execution_count": 25,
   "metadata": {},
   "outputs": [
    {
     "data": {
      "text/plain": [
       "<AxesSubplot:>"
      ]
     },
     "execution_count": 25,
     "metadata": {},
     "output_type": "execute_result"
    },
    {
     "data": {
      "image/png": "[encoded data removed]",
      "text/plain": [
       "<Figure size 432x288 with 1 Axes>"
      ]
     },
     "metadata": {
      "needs_background": "light"
     },
     "output_type": "display_data"
    }
   ],
   "source": [
    "df4['fault_severity'].value_counts().plot.bar()\n",
    "## 0->hata yok, 1->birkaç hata, 2->çok hata"
   ]
  },
  {
   "cell_type": "code",
   "execution_count": 26,
   "metadata": {},
   "outputs": [],
   "source": [
    "y = df4.fault_severity\n",
    "x = df4.drop('fault_severity', axis=1)"
   ]
  },
  {
   "cell_type": "code",
   "execution_count": 27,
   "metadata": {},
   "outputs": [
    {
     "data": {
      "text/plain": [
       "((49471, 7), (12368, 7), (49471,), (12368,))"
      ]
     },
     "execution_count": 27,
     "metadata": {},
     "output_type": "execute_result"
    }
   ],
   "source": [
    "from sklearn.model_selection import train_test_split\n",
    "\n",
    "X_train, X_test, y_train, y_test = train_test_split(x, y, test_size=0.2, random_state=10)\n",
    "X_train.shape, X_test.shape, y_train.shape, y_test.shape"
   ]
  },
  {
   "cell_type": "markdown",
   "metadata": {},
   "source": [
    "### Naive Bayes"
   ]
  },
  {
   "cell_type": "code",
   "execution_count": 28,
   "metadata": {},
   "outputs": [],
   "source": [
    "from sklearn.naive_bayes import GaussianNB\n",
    "g=GaussianNB()\n",
    "g.fit(x,y)\n",
    "from sklearn.naive_bayes import BernoulliNB\n",
    "b=BernoulliNB()\n",
    "b.fit(x,y)\n",
    "from sklearn.metrics import accuracy_score,precision_score,recall_score,f1_score\n",
    "predict_g=g.predict(x)\n",
    "predict_b=b.predict(x)"
   ]
  },
  {
   "cell_type": "code",
   "execution_count": 29,
   "metadata": {},
   "outputs": [
    {
     "name": "stdout",
     "output_type": "stream",
     "text": [
      "Gaussian predict\n",
      "accuracy score:  0.5522566665049564\n",
      "precision score:  [0.76142182 0.3637458  0.312826  ]\n",
      "recall score:  [0.62980572 0.53031954 0.26829548]\n",
      "f1 score:  [0.68938805 0.43151545 0.28885458]\n",
      "\n",
      "\n",
      "Bernoulli predict\n",
      "accuracy score:  0.5918109930626304\n",
      "precision score:  [0.59181099 0.         0.        ]\n",
      "recall score:  [1. 0. 0.]\n",
      "f1 score:  [0.74356943 0.         0.        ]\n"
     ]
    }
   ],
   "source": [
    "print(\"Gaussian predict\")\n",
    "print(\"accuracy score: \", accuracy_score(y,predict_g))\n",
    "print(\"precision score: \", precision_score(y,predict_g,average=None))\n",
    "print(\"recall score: \", recall_score(y,predict_g,average=None))\n",
    "print(\"f1 score: \", f1_score(y,predict_g,average=None))\n",
    "print(\"\\n\")\n",
    "print(\"Bernoulli predict\")\n",
    "print(\"accuracy score: \", accuracy_score(y,predict_b))\n",
    "print(\"precision score: \", precision_score(y,predict_b,average=None))\n",
    "print(\"recall score: \", recall_score(y,predict_b,average=None))\n",
    "print(\"f1 score: \", f1_score(y,predict_b,average=None))"
   ]
  },
  {
   "cell_type": "markdown",
   "metadata": {},
   "source": [
    "### Logistic "
   ]
  },
  {
   "cell_type": "code",
   "execution_count": 30,
   "metadata": {},
   "outputs": [],
   "source": [
    "from sklearn.linear_model import LogisticRegression\n",
    "lr=LogisticRegression()\n",
    "lr.fit(x,y)\n",
    "predict_lr=lr.predict(x)"
   ]
  },
  {
   "cell_type": "code",
   "execution_count": 31,
   "metadata": {},
   "outputs": [
    {
     "data": {
      "text/plain": [
       "(0.5804265916331118,\n",
       " array([0.6177761 , 0.38475073, 0.24137931]),\n",
       " array([0.8964396 , 0.15879932, 0.05299381]),\n",
       " array([0.73146641, 0.22481151, 0.08690745]))"
      ]
     },
     "execution_count": 31,
     "metadata": {},
     "output_type": "execute_result"
    }
   ],
   "source": [
    "accuracy_score(y,predict_lr),precision_score(y,predict_lr,average=None),recall_score(y,predict_lr,average=None),f1_score(y,predict_lr,average=None)"
   ]
  },
  {
   "cell_type": "markdown",
   "metadata": {},
   "source": [
    "### K-Nearest"
   ]
  },
  {
   "cell_type": "code",
   "execution_count": 32,
   "metadata": {},
   "outputs": [],
   "source": [
    "from sklearn.neighbors import KNeighborsClassifier\n",
    "k=KNeighborsClassifier()\n",
    "k.fit(x,y)\n",
    "predict_k=k.predict(x)"
   ]
  },
  {
   "cell_type": "code",
   "execution_count": 33,
   "metadata": {},
   "outputs": [
    {
     "data": {
      "text/plain": [
       "(0.9363670175779039,\n",
       " array([0.94874848, 0.91374135, 0.92606004]),\n",
       " array([0.95802935, 0.90262648, 0.90938289]),\n",
       " array([0.95336633, 0.90814991, 0.9176457 ]))"
      ]
     },
     "execution_count": 33,
     "metadata": {},
     "output_type": "execute_result"
    }
   ],
   "source": [
    "accuracy_score(y,predict_k),precision_score(y,predict_k,average=None),recall_score(y,predict_k,average=None),f1_score(y,predict_k,average=None)"
   ]
  },
  {
   "cell_type": "markdown",
   "metadata": {},
   "source": [
    "### Decision Tree"
   ]
  },
  {
   "cell_type": "code",
   "execution_count": 34,
   "metadata": {},
   "outputs": [],
   "source": [
    "from sklearn.tree import DecisionTreeClassifier\n",
    "d=DecisionTreeClassifier()\n",
    "d.fit(X_train,y_train)\n",
    "predict_d=d.predict(x)"
   ]
  },
  {
   "cell_type": "code",
   "execution_count": 35,
   "metadata": {},
   "outputs": [
    {
     "data": {
      "text/plain": [
       "(0.9904429243681172,\n",
       " array([0.9950662 , 0.98546354, 0.9806312 ]),\n",
       " array([0.99196655, 0.98874365, 0.98726772]),\n",
       " array([0.99351396, 0.98710087, 0.98393827]))"
      ]
     },
     "execution_count": 35,
     "metadata": {},
     "output_type": "execute_result"
    }
   ],
   "source": [
    "accuracy_score(y,predict_d),precision_score(y,predict_d,average=None),recall_score(y,predict_d,average=None),f1_score(y,predict_d,average=None)"
   ]
  },
  {
   "cell_type": "markdown",
   "metadata": {},
   "source": [
    "### Gradient Boosting"
   ]
  },
  {
   "cell_type": "code",
   "execution_count": 70,
   "metadata": {},
   "outputs": [
    {
     "name": "stdout",
     "output_type": "stream",
     "text": [
      "gbc score:  0.8374029754204398\n"
     ]
    }
   ],
   "source": [
    "from sklearn.ensemble import GradientBoostingClassifier\n",
    "from sklearn.metrics import accuracy_score, mean_squared_error\n",
    "\n",
    "gbc = GradientBoostingClassifier(n_estimators=500, learning_rate=.01,max_depth=6, random_state=42)\n",
    "gbcmodel=gbc.fit(X_train,y_train)\n",
    "\n",
    "print(\"gbc score: \" ,gbc.score(X_test,y_test)) "
   ]
  },
  {
   "cell_type": "markdown",
   "metadata": {},
   "source": [
    "### Random Forest"
   ]
  },
  {
   "cell_type": "code",
   "execution_count": 76,
   "metadata": {},
   "outputs": [
    {
     "name": "stdout",
     "output_type": "stream",
     "text": [
      "rf score:  0.9059670116429496\n"
     ]
    }
   ],
   "source": [
    "from sklearn.ensemble import RandomForestClassifier\n",
    "\n",
    "rf=RandomForestClassifier(n_estimators=500, max_depth=None, max_features='auto', random_state=42)\n",
    "rfmodel=rf.fit(X_train,y_train)\n",
    "\n",
    "print(\"rf score: \",rfmodel.score(X_test,y_test))"
   ]
  },
  {
   "cell_type": "code",
   "execution_count": 82,
   "metadata": {},
   "outputs": [],
   "source": [
    "y_pred_proba_gbc = gbcmodel.predict_proba(X_test)\n",
    "y_pred_proba_rf = rfmodel.predict_proba(X_test)"
   ]
  },
  {
   "cell_type": "code",
   "execution_count": 86,
   "metadata": {},
   "outputs": [],
   "source": [
    "# Bundan sonrası artık tahminin kayıt edilmesi için... "
   ]
  },
  {
   "cell_type": "code",
   "execution_count": 83,
   "metadata": {},
   "outputs": [
    {
     "data": {
      "text/html": [
       "<div>\n",
       "<style scoped>\n",
       "    .dataframe tbody tr th:only-of-type {\n",
       "        vertical-align: middle;\n",
       "    }\n",
       "\n",
       "    .dataframe tbody tr th {\n",
       "        vertical-align: top;\n",
       "    }\n",
       "\n",
       "    .dataframe thead th {\n",
       "        text-align: right;\n",
       "    }\n",
       "</style>\n",
       "<table border=\"1\" class=\"dataframe\">\n",
       "  <thead>\n",
       "    <tr style=\"text-align: right;\">\n",
       "      <th></th>\n",
       "      <th>id</th>\n",
       "      <th>Predicted fault_severity</th>\n",
       "      <th>prediction_probability_0</th>\n",
       "      <th>prediction_probability_1</th>\n",
       "      <th>prediction_probability_2</th>\n",
       "    </tr>\n",
       "  </thead>\n",
       "  <tbody>\n",
       "    <tr>\n",
       "      <th>11829</th>\n",
       "      <td>10829</td>\n",
       "      <td>1</td>\n",
       "      <td>0.380987</td>\n",
       "      <td>0.421588</td>\n",
       "      <td>0.197425</td>\n",
       "    </tr>\n",
       "    <tr>\n",
       "      <th>7069</th>\n",
       "      <td>7844</td>\n",
       "      <td>0</td>\n",
       "      <td>0.658497</td>\n",
       "      <td>0.234226</td>\n",
       "      <td>0.107277</td>\n",
       "    </tr>\n",
       "    <tr>\n",
       "      <th>47779</th>\n",
       "      <td>12926</td>\n",
       "      <td>1</td>\n",
       "      <td>0.406773</td>\n",
       "      <td>0.412332</td>\n",
       "      <td>0.180895</td>\n",
       "    </tr>\n",
       "    <tr>\n",
       "      <th>14802</th>\n",
       "      <td>10617</td>\n",
       "      <td>0</td>\n",
       "      <td>0.607490</td>\n",
       "      <td>0.353644</td>\n",
       "      <td>0.038866</td>\n",
       "    </tr>\n",
       "    <tr>\n",
       "      <th>32697</th>\n",
       "      <td>2486</td>\n",
       "      <td>0</td>\n",
       "      <td>0.438797</td>\n",
       "      <td>0.289084</td>\n",
       "      <td>0.272119</td>\n",
       "    </tr>\n",
       "  </tbody>\n",
       "</table>\n",
       "</div>"
      ],
      "text/plain": [
       "          id  Predicted fault_severity  prediction_probability_0  \\\n",
       "11829  10829                         1                  0.380987   \n",
       "7069    7844                         0                  0.658497   \n",
       "47779  12926                         1                  0.406773   \n",
       "14802  10617                         0                  0.607490   \n",
       "32697   2486                         0                  0.438797   \n",
       "\n",
       "       prediction_probability_1  prediction_probability_2  \n",
       "11829                  0.421588                  0.197425  \n",
       "7069                   0.234226                  0.107277  \n",
       "47779                  0.412332                  0.180895  \n",
       "14802                  0.353644                  0.038866  \n",
       "32697                  0.289084                  0.272119  "
      ]
     },
     "execution_count": 83,
     "metadata": {},
     "output_type": "execute_result"
    }
   ],
   "source": [
    "result = pd.DataFrame({\n",
    "        \"id\": X_test.id,\n",
    "        \"Predicted fault_severity\": y_predgbc,\n",
    "        \"prediction_probability_0\": y_pred_proba_gbc[:,0],\n",
    "        \"prediction_probability_1\": y_pred_proba_gbc[:,1],\n",
    "        \"prediction_probability_2\": y_pred_proba_gbc[:,2]\n",
    "    },columns=['id','Predicted fault_severity','prediction_probability_0','prediction_probability_1','prediction_probability_2'])\n",
    "\n",
    "result.head()"
   ]
  },
  {
   "cell_type": "code",
   "execution_count": 84,
   "metadata": {},
   "outputs": [],
   "source": [
    "result.to_csv('Service disruption prediction.csv')"
   ]
  },
  {
   "cell_type": "code",
   "execution_count": null,
   "metadata": {},
   "outputs": [],
   "source": []
  }
 ],
 "metadata": {
  "kernelspec": {
   "display_name": "Python 3",
   "language": "python",
   "name": "python3"
  },
  "language_info": {
   "codemirror_mode": {
    "name": "ipython",
    "version": 3
   },
   "file_extension": ".py",
   "mimetype": "text/x-python",
   "name": "python",
   "nbconvert_exporter": "python",
   "pygments_lexer": "ipython3",
   "version": "3.8.5"
  }
 },
 "nbformat": 4,
 "nbformat_minor": 4
}
